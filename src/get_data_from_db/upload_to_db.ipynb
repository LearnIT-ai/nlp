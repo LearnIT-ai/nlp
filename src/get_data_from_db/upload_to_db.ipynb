{
 "cells": [
  {
   "cell_type": "code",
   "execution_count": null,
   "metadata": {},
   "outputs": [],
   "source": [
    "from pymongo.mongo_client import MongoClient\n",
    "from pymongo.server_api import ServerApi\n",
    "import os\n",
    "import gridfs\n",
    "from dotenv import load_dotenv\n",
    "\n",
    "\n",
    "load_dotenv()\n",
    "uri = os.getenv(\"URL\")\n",
    "client = MongoClient(uri, server_api=ServerApi('1'))\n",
    "\n",
    "try:\n",
    "    client.admin.command('ping')\n",
    "    print(\"Pinged your deployment. You successfully connected to MongoDB!\")\n",
    "except Exception as e:\n",
    "    print(e)\n",
    "\n",
    "    \n",
    "db = client['Lecture']\n",
    "fs = gridfs.GridFS(db)\n",
    "\n",
    "def upload_files(directory):\n",
    "    for foldername, subfolders, filenames in os.walk(directory):\n",
    "        for filename in filenames:\n",
    "            file_path = os.path.join(foldername, filename)\n",
    "            \n",
    "            with open(file_path, 'rb') as file:\n",
    "                relative_path = os.path.relpath(file_path, directory)\n",
    "                file_id = fs.put(file, filename=relative_path, metadata={\n",
    "                    'path': relative_path,\n",
    "                    'folder': foldername,\n",
    "                    'original_name': filename\n",
    "                })\n",
    "                print(f'File uploaded: {relative_path} with ID: {file_id}')\n",
    "\n",
    "directory_path = os.getenv(\"data_folder\")\n",
    "upload_files(directory_path)\n"
   ]
  }
 ],
 "metadata": {
  "kernelspec": {
   "display_name": "envire",
   "language": "python",
   "name": "python3"
  },
  "language_info": {
   "codemirror_mode": {
    "name": "ipython",
    "version": 3
   },
   "file_extension": ".py",
   "mimetype": "text/x-python",
   "name": "python",
   "nbconvert_exporter": "python",
   "pygments_lexer": "ipython3",
   "version": "3.11.9"
  }
 },
 "nbformat": 4,
 "nbformat_minor": 2
}
